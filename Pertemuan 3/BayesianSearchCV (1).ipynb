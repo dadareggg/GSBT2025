{
  "nbformat": 4,
  "nbformat_minor": 0,
  "metadata": {
    "colab": {
      "provenance": []
    },
    "kernelspec": {
      "name": "python3",
      "display_name": "Python 3"
    },
    "language_info": {
      "name": "python"
    }
  },
  "cells": [
    {
      "cell_type": "markdown",
      "source": [
        "# BayesianSearchCV\n",
        "\n",
        "1. Apa itu hyperparameter tuning?\n",
        "2. Jelaskan metode BayesSearchCV!\n",
        "3. Bagaimana cara kerja BayesSearchCV?\n",
        "4. Apa kelebihan BayesSearchCV dibandingkan metode hyperparameter tuning lainnya?\n",
        "\n"
      ],
      "metadata": {
        "id": "pjbXCL2nNB9N"
      }
    },
    {
      "cell_type": "markdown",
      "source": [
        "1. Proses mencari nilai kombinasi nilai terbaik agar model punya performa optimal\n",
        "2. Metode hyperparameter tuning berbasis Bayesian Optimization yang menyesuaikan pencarian berdasarkan hasil percobaan sebelumnya.\n",
        "3. Mulai dari percobaan acak, bangun model probabilistik, prediksi area potensial terbaik, uji, dan ulangi hingga ditemukan kombinasi optimal.\n",
        "4. Lebih efisien, adaptif, dan cocok untuk model yang mahal dilatih dibanding Grid Search atau Random Search."
      ],
      "metadata": {
        "id": "pvB0-FrC9GeJ"
      }
    },
    {
      "cell_type": "code",
      "execution_count": 1,
      "metadata": {
        "id": "2o0dt8txGE1k",
        "colab": {
          "base_uri": "https://localhost:8080/"
        },
        "outputId": "96cb612c-4d13-45d6-b981-797dc38b4ce9"
      },
      "outputs": [
        {
          "output_type": "stream",
          "name": "stdout",
          "text": [
            "Collecting scikit-optimize\n",
            "  Downloading scikit_optimize-0.10.2-py2.py3-none-any.whl.metadata (9.7 kB)\n",
            "Requirement already satisfied: joblib>=0.11 in /usr/local/lib/python3.12/dist-packages (from scikit-optimize) (1.5.2)\n",
            "Collecting pyaml>=16.9 (from scikit-optimize)\n",
            "  Downloading pyaml-25.7.0-py3-none-any.whl.metadata (12 kB)\n",
            "Requirement already satisfied: numpy>=1.20.3 in /usr/local/lib/python3.12/dist-packages (from scikit-optimize) (2.0.2)\n",
            "Requirement already satisfied: scipy>=1.1.0 in /usr/local/lib/python3.12/dist-packages (from scikit-optimize) (1.16.2)\n",
            "Requirement already satisfied: scikit-learn>=1.0.0 in /usr/local/lib/python3.12/dist-packages (from scikit-optimize) (1.6.1)\n",
            "Requirement already satisfied: packaging>=21.3 in /usr/local/lib/python3.12/dist-packages (from scikit-optimize) (25.0)\n",
            "Requirement already satisfied: PyYAML in /usr/local/lib/python3.12/dist-packages (from pyaml>=16.9->scikit-optimize) (6.0.3)\n",
            "Requirement already satisfied: threadpoolctl>=3.1.0 in /usr/local/lib/python3.12/dist-packages (from scikit-learn>=1.0.0->scikit-optimize) (3.6.0)\n",
            "Downloading scikit_optimize-0.10.2-py2.py3-none-any.whl (107 kB)\n",
            "\u001b[2K   \u001b[90m━━━━━━━━━━━━━━━━━━━━━━━━━━━━━━━━━━━━━━━━\u001b[0m \u001b[32m107.8/107.8 kB\u001b[0m \u001b[31m4.7 MB/s\u001b[0m eta \u001b[36m0:00:00\u001b[0m\n",
            "\u001b[?25hDownloading pyaml-25.7.0-py3-none-any.whl (26 kB)\n",
            "Installing collected packages: pyaml, scikit-optimize\n",
            "Successfully installed pyaml-25.7.0 scikit-optimize-0.10.2\n"
          ]
        }
      ],
      "source": [
        "# import library\n",
        "!pip install scikit-optimize # install jika belum pernah install #"
      ]
    },
    {
      "cell_type": "code",
      "source": [
        "# Load Dataset\n",
        "from sklearn.datasets import load_iris\n",
        "from sklearn.model_selection import train_test_split\n",
        "\n",
        "X, y = load_iris(return_X_y=True)\n",
        "X_train, X_test, y_train, y_test = train_test_split(X, y, train_size=0.75, random_state=0)"
      ],
      "metadata": {
        "id": "v7ENirBIHIYz"
      },
      "execution_count": 4,
      "outputs": []
    },
    {
      "cell_type": "code",
      "source": [
        "from sklearn.svm import SVC\n",
        "from skopt.space import Real, Categorical, Integer\n",
        "from sklearn.preprocessing import StandardScaler # Import StandardScaler\n",
        "from sklearn.pipeline import Pipeline # Import Pipeline\n",
        "\n",
        "# Definisikan model\n",
        "# Gunakan Pipeline untuk menggabungkan scaler dan model\n",
        "model = Pipeline([\n",
        "    ('scaler', StandardScaler()), # Tambahkan langkah scaling\n",
        "    ('svc', SVC(random_state=0)) # Model SVC\n",
        "])\n",
        "\n",
        "# Definisikan ruang hyperparameter\n",
        "# Sesuaikan nama parameter untuk Pipeline (nama_step__nama_parameter)\n",
        "param_space = {\n",
        "    'svc__C': Real(1e-6, 1e+6, prior='log-uniform'),\n",
        "    'svc__gamma': Real(1e-6, 1e+6, prior='log-uniform'),\n",
        "    'svc__kernel': Categorical(['rbf', 'poly', 'sigmoid']),\n",
        "    'svc__degree': Integer(1, 5) # Only relevant for 'poly' kernel\n",
        "}\n",
        "\n",
        "print(\"Model defined:\", model)\n",
        "print(\"Hyperparameter space defined:\", param_space)"
      ],
      "metadata": {
        "id": "vmyqOLU1IO3T",
        "colab": {
          "base_uri": "https://localhost:8080/"
        },
        "outputId": "37169b02-a4e1-47e9-d1eb-0e88cdab6b86"
      },
      "execution_count": 8,
      "outputs": [
        {
          "output_type": "stream",
          "name": "stdout",
          "text": [
            "Model defined: Pipeline(steps=[('scaler', StandardScaler()), ('svc', SVC(random_state=0))])\n",
            "Hyperparameter space defined: {'svc__C': Real(low=1e-06, high=1000000.0, prior='log-uniform', transform='identity'), 'svc__gamma': Real(low=1e-06, high=1000000.0, prior='log-uniform', transform='identity'), 'svc__kernel': Categorical(categories=('rbf', 'poly', 'sigmoid'), prior=None), 'svc__degree': Integer(low=1, high=5, prior='uniform', transform='identity')}\n"
          ]
        }
      ]
    },
    {
      "cell_type": "markdown",
      "source": [
        "# Fungsi Optimisasi Menggunakan BayesianSearchCV"
      ],
      "metadata": {
        "id": "Ip5U8cL4OLUP"
      }
    },
    {
      "cell_type": "code",
      "source": [
        "from skopt import BayesSearchCV\n",
        "from sklearn.model_selection import StratifiedKFold\n",
        "\n",
        "# Inisialisasi BayesSearchCV\n",
        "\n",
        "bayes_search = BayesSearchCV(\n",
        "    estimator=model, # Menggunakan model Pipeline\n",
        "    search_spaces=param_space, # Menggunakan param_space yang disesuaikan untuk Pipeline\n",
        "    n_iter=50,\n",
        "    cv=StratifiedKFold(n_splits=5, shuffle=True, random_state=0),\n",
        "    n_jobs=-1,\n",
        "    random_state=0,\n",
        "    verbose=2\n",
        ")\n",
        "\n",
        "print(\"BayesSearchCV initialized:\", bayes_search)"
      ],
      "metadata": {
        "id": "BC0k0vXKOBJk",
        "colab": {
          "base_uri": "https://localhost:8080/"
        },
        "outputId": "adec07db-7d49-4bff-c96e-821ab859920e"
      },
      "execution_count": 9,
      "outputs": [
        {
          "output_type": "stream",
          "name": "stdout",
          "text": [
            "BayesSearchCV initialized: BayesSearchCV(cv=StratifiedKFold(n_splits=5, random_state=0, shuffle=True),\n",
            "              estimator=Pipeline(steps=[('scaler', StandardScaler()),\n",
            "                                        ('svc', SVC(random_state=0))]),\n",
            "              n_jobs=-1, random_state=0,\n",
            "              search_spaces={'svc__C': Real(low=1e-06, high=1000000.0, prior='log-uniform', transform='identity'),\n",
            "                             'svc__degree': Integer(low=1, high=5, prior='uniform', transform='identity'),\n",
            "                             'svc__gamma': Real(low=1e-06, high=1000000.0, prior='log-uniform', transform='identity'),\n",
            "                             'svc__kernel': Categorical(categories=('rbf', 'poly', 'sigmoid'), prior=None)},\n",
            "              verbose=2)\n"
          ]
        }
      ]
    },
    {
      "cell_type": "code",
      "source": [
        "# Jalankan optimisasi\n",
        "# Proses ini akan mencari kombinasi hyperparameter terbaik\n",
        "# berdasarkan performa model pada data training menggunakan cross-validation\n",
        "bayes_search.fit(X_train, y_train) # Sekarang data akan discale di dalam pipeline\n",
        "\n",
        "print(\"Optimisasi selesai.\")\n",
        "print(\"Hasil terbaik:\")\n",
        "print(\"Best score:\", bayes_search.best_score_)\n",
        "print(\"Best parameters:\", bayes_search.best_params_)"
      ],
      "metadata": {
        "id": "EYoUwsYCOB5F",
        "colab": {
          "base_uri": "https://localhost:8080/"
        },
        "outputId": "1b6ead51-3d66-458e-86d6-a49be42f6603"
      },
      "execution_count": 10,
      "outputs": [
        {
          "output_type": "stream",
          "name": "stdout",
          "text": [
            "Fitting 5 folds for each of 1 candidates, totalling 5 fits\n",
            "Fitting 5 folds for each of 1 candidates, totalling 5 fits\n",
            "Fitting 5 folds for each of 1 candidates, totalling 5 fits\n",
            "Fitting 5 folds for each of 1 candidates, totalling 5 fits\n",
            "Fitting 5 folds for each of 1 candidates, totalling 5 fits\n",
            "Fitting 5 folds for each of 1 candidates, totalling 5 fits\n",
            "Fitting 5 folds for each of 1 candidates, totalling 5 fits\n",
            "Fitting 5 folds for each of 1 candidates, totalling 5 fits\n",
            "Fitting 5 folds for each of 1 candidates, totalling 5 fits\n",
            "Fitting 5 folds for each of 1 candidates, totalling 5 fits\n",
            "Fitting 5 folds for each of 1 candidates, totalling 5 fits\n",
            "Fitting 5 folds for each of 1 candidates, totalling 5 fits\n",
            "Fitting 5 folds for each of 1 candidates, totalling 5 fits\n",
            "Fitting 5 folds for each of 1 candidates, totalling 5 fits\n",
            "Fitting 5 folds for each of 1 candidates, totalling 5 fits\n",
            "Fitting 5 folds for each of 1 candidates, totalling 5 fits\n",
            "Fitting 5 folds for each of 1 candidates, totalling 5 fits\n",
            "Fitting 5 folds for each of 1 candidates, totalling 5 fits\n",
            "Fitting 5 folds for each of 1 candidates, totalling 5 fits\n",
            "Fitting 5 folds for each of 1 candidates, totalling 5 fits\n",
            "Fitting 5 folds for each of 1 candidates, totalling 5 fits\n",
            "Fitting 5 folds for each of 1 candidates, totalling 5 fits\n",
            "Fitting 5 folds for each of 1 candidates, totalling 5 fits\n",
            "Fitting 5 folds for each of 1 candidates, totalling 5 fits\n",
            "Fitting 5 folds for each of 1 candidates, totalling 5 fits\n",
            "Fitting 5 folds for each of 1 candidates, totalling 5 fits\n",
            "Fitting 5 folds for each of 1 candidates, totalling 5 fits\n",
            "Fitting 5 folds for each of 1 candidates, totalling 5 fits\n",
            "Fitting 5 folds for each of 1 candidates, totalling 5 fits\n",
            "Fitting 5 folds for each of 1 candidates, totalling 5 fits\n",
            "Fitting 5 folds for each of 1 candidates, totalling 5 fits\n",
            "Fitting 5 folds for each of 1 candidates, totalling 5 fits\n",
            "Fitting 5 folds for each of 1 candidates, totalling 5 fits\n",
            "Fitting 5 folds for each of 1 candidates, totalling 5 fits\n",
            "Fitting 5 folds for each of 1 candidates, totalling 5 fits\n",
            "Fitting 5 folds for each of 1 candidates, totalling 5 fits\n",
            "Fitting 5 folds for each of 1 candidates, totalling 5 fits\n",
            "Fitting 5 folds for each of 1 candidates, totalling 5 fits\n",
            "Fitting 5 folds for each of 1 candidates, totalling 5 fits\n",
            "Fitting 5 folds for each of 1 candidates, totalling 5 fits\n",
            "Fitting 5 folds for each of 1 candidates, totalling 5 fits\n",
            "Fitting 5 folds for each of 1 candidates, totalling 5 fits\n",
            "Fitting 5 folds for each of 1 candidates, totalling 5 fits\n",
            "Fitting 5 folds for each of 1 candidates, totalling 5 fits\n",
            "Fitting 5 folds for each of 1 candidates, totalling 5 fits\n",
            "Fitting 5 folds for each of 1 candidates, totalling 5 fits\n",
            "Fitting 5 folds for each of 1 candidates, totalling 5 fits\n",
            "Fitting 5 folds for each of 1 candidates, totalling 5 fits\n",
            "Fitting 5 folds for each of 1 candidates, totalling 5 fits\n",
            "Fitting 5 folds for each of 1 candidates, totalling 5 fits\n",
            "Optimisasi selesai.\n",
            "Hasil terbaik:\n",
            "Best score: 0.9735177865612649\n",
            "Best parameters: OrderedDict({'svc__C': 1000000.0, 'svc__degree': 2, 'svc__gamma': 1e-06, 'svc__kernel': 'sigmoid'})\n"
          ]
        }
      ]
    },
    {
      "cell_type": "code",
      "source": [
        "#Evaluasi Model\n",
        "from sklearn.metrics import accuracy_score\n",
        "\n",
        "y_pred = bayes_search.best_estimator_.predict(X_test)\n",
        "accuracy = accuracy_score(y_test, y_pred)\n",
        "\n",
        "print(\"Evaluasi Model Selesai.\")\n",
        "print(f\"Akurasi pada data testing: {accuracy:.4f}\")"
      ],
      "metadata": {
        "id": "sox5OZx6OD0z",
        "colab": {
          "base_uri": "https://localhost:8080/"
        },
        "outputId": "4303d20b-fdfd-4416-b5f5-ef081e039c60"
      },
      "execution_count": 12,
      "outputs": [
        {
          "output_type": "stream",
          "name": "stdout",
          "text": [
            "Evaluasi Model Selesai.\n",
            "Akurasi pada data testing: 0.9737\n"
          ]
        }
      ]
    },
    {
      "cell_type": "code",
      "source": [],
      "metadata": {
        "id": "9msLUz_vQCCe"
      },
      "execution_count": null,
      "outputs": []
    }
  ]
}